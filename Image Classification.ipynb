#mount google drive to google colab
from google.colab import drive
drive.mount('/content/drive')

#importing tensorflow and numpy
import tensorflow as tf
import numpy as np

#importing file from drive
filename='/content/drive/My Drive/Image/cat_dog.jpeg'

#display image in IPython
from IPython.display import Image

#first method to load image
Image(filename,width=224,height=224)

#second method to load image
from tensorflow.keras.preprocessing import image
img=image.load_img(filename,target_size=(224,224))

import matplotlib.pyplot as plt
plt.imshow(img)

#third method
import cv2
img=cv2.imread(filename)
plt.imshow(img)

#fourth method.
from PIL import Image
im=Image.open(filename)
im=im.resize((224,224)) 
plt.imshow(im)

!pip install tensorflow

#This function returns a Keras image classification model, optionally loaded with weights pre-trained on ImageNet
mobile=tf.keras.applications.mobilenet.MobileNet()

from tensorflow.keras.preprocessing import image
img=image.load_img(filename,target_size=(224,224))
plt.imshow(img)

resized_img=image.img_to_array(img)
final_image=np.expand_dims(resized_img,axis=0)
final_image=tf.keras.applications.mobilenet.preprocess_input(final_image)

resized_img.shape

final_image.shape

mobile=tf.keras.applications.mobilenet.MobileNet()
final_image

prediction=mobile.predict(final_image)

print(prediction)

from tensorflow.keras.applications import imagenet_utils

result=imagenet_utils.decode_predictions(prediction)

print(result)
